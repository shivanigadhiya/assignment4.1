{
 "cells": [
  {
   "cell_type": "markdown",
   "id": "045b7940-c938-4428-9e6b-51d6f7b4634e",
   "metadata": {},
   "source": [
    "The four pillars of OOPs (object-oriented programming) are data abstraction, encapsulation, inheritance, and polymorphism. \n",
    "data abstraction :  Abstraction in python is defined as a process of handling complexity by hiding unnecessary information from the user. \n",
    "encapsulation : Encapsulation is a mechanism of wrapping the data (variables) and code acting on the data (methods) together as a single unit.\n",
    "inheritance : Inheritance allows us to define a class that inherits all the methods and properties from another class. \n",
    "polymorphism:\n"
   ]
  }
 ],
 "metadata": {
  "kernelspec": {
   "display_name": "Python 3 (ipykernel)",
   "language": "python",
   "name": "python3"
  },
  "language_info": {
   "codemirror_mode": {
    "name": "ipython",
    "version": 3
   },
   "file_extension": ".py",
   "mimetype": "text/x-python",
   "name": "python",
   "nbconvert_exporter": "python",
   "pygments_lexer": "ipython3",
   "version": "3.10.8"
  }
 },
 "nbformat": 4,
 "nbformat_minor": 5
}
