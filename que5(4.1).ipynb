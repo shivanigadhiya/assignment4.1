{
 "cells": [
  {
   "cell_type": "markdown",
   "id": "f57bda71-94b0-43f9-9eac-5652747ec5c7",
   "metadata": {},
   "source": [
    "inheritace: inheritance allows us to define a class that inherits all the method and properties from another class. example "
   ]
  },
  {
   "cell_type": "code",
   "execution_count": 2,
   "id": "68576eb6-0eb2-42e1-a27d-10c7ecb0e02c",
   "metadata": {},
   "outputs": [
    {
     "data": {
      "text/plain": [
       "'this is class1'"
      ]
     },
     "execution_count": 2,
     "metadata": {},
     "output_type": "execute_result"
    }
   ],
   "source": [
    "class class1:\n",
    "    def test_class1(self):\n",
    "        return \"this is class1\"\n",
    "class class2(class1):\n",
    "    pass\n",
    "obj_class2 = class2()\n",
    "obj_class2.test_class1()"
   ]
  },
  {
   "cell_type": "code",
   "execution_count": 3,
   "id": "e2a0aeac-1234-4f5a-92b1-56c47c2d9170",
   "metadata": {},
   "outputs": [
    {
     "data": {
      "text/plain": [
       "'this is meth from class2'"
      ]
     },
     "execution_count": 3,
     "metadata": {},
     "output_type": "execute_result"
    }
   ],
   "source": [
    "class class1:\n",
    "    def test_class1(self):\n",
    "        return \"this is meth from class1\"\n",
    "class class2(class1):\n",
    "    def test_class2(self):\n",
    "        return \"this is meth from class2\"\n",
    "class class3(class2):\n",
    "    pass\n",
    "obj_class3 = class3()\n",
    "\n",
    "obj_class3.test_class2()"
   ]
  },
  {
   "cell_type": "code",
   "execution_count": 4,
   "id": "27d1ece9-760d-41e2-be71-d9e2f6db8381",
   "metadata": {},
   "outputs": [
    {
     "data": {
      "text/plain": [
       "'this is meth from class2'"
      ]
     },
     "execution_count": 4,
     "metadata": {},
     "output_type": "execute_result"
    }
   ],
   "source": [
    "class class1:\n",
    "    def test_class1(self):\n",
    "        return \"this is meth from class1\"\n",
    "class class2():\n",
    "    def test_class2(self):\n",
    "        return \"this is meth from class2\"\n",
    "class class3(class1,class2):\n",
    "    pass\n",
    "obj_class3 = class3()\n",
    "obj_class3.test_class2()"
   ]
  },
  {
   "cell_type": "code",
   "execution_count": null,
   "id": "b2b159c5-267e-4734-ad2f-96b707ebd9b2",
   "metadata": {},
   "outputs": [],
   "source": []
  }
 ],
 "metadata": {
  "kernelspec": {
   "display_name": "Python 3 (ipykernel)",
   "language": "python",
   "name": "python3"
  },
  "language_info": {
   "codemirror_mode": {
    "name": "ipython",
    "version": 3
   },
   "file_extension": ".py",
   "mimetype": "text/x-python",
   "name": "python",
   "nbconvert_exporter": "python",
   "pygments_lexer": "ipython3",
   "version": "3.10.8"
  }
 },
 "nbformat": 4,
 "nbformat_minor": 5
}
