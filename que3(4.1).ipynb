{
 "cells": [
  {
   "cell_type": "markdown",
   "id": "566db8a1-fd8e-4015-a0f9-2cecbc18f6f8",
   "metadata": {},
   "source": [
    "__init__ is a special python method that runs whenever a new object is created. These types of functions are used to initialize the attributes of that class,example:"
   ]
  },
  {
   "cell_type": "code",
   "execution_count": null,
   "id": "32aaf927-3912-42f6-8145-d39c2c86c2a9",
   "metadata": {},
   "outputs": [],
   "source": [
    "class abc:\n",
    "    def"
   ]
  }
 ],
 "metadata": {
  "kernelspec": {
   "display_name": "Python 3 (ipykernel)",
   "language": "python",
   "name": "python3"
  },
  "language_info": {
   "codemirror_mode": {
    "name": "ipython",
    "version": 3
   },
   "file_extension": ".py",
   "mimetype": "text/x-python",
   "name": "python",
   "nbconvert_exporter": "python",
   "pygments_lexer": "ipython3",
   "version": "3.10.8"
  }
 },
 "nbformat": 4,
 "nbformat_minor": 5
}
