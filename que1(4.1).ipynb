{
 "cells": [
  {
   "cell_type": "markdown",
   "id": "26267190-925c-4028-81d2-c08d4410752c",
   "metadata": {},
   "source": [
    "class: It is a code template for creating objects.when we want to create class we have to write class keyword.\n",
    "example:"
   ]
  },
  {
   "cell_type": "code",
   "execution_count": 2,
   "id": "8cd28065-1a4e-48d4-9bae-4b46577f2d42",
   "metadata": {},
   "outputs": [],
   "source": [
    "class abc:\n",
    "    pass"
   ]
  },
  {
   "cell_type": "markdown",
   "id": "15bc1308-6d30-4e56-b824-00eb6e7797f9",
   "metadata": {},
   "source": [
    "object:It is instance of class. example:"
   ]
  },
  {
   "cell_type": "code",
   "execution_count": 6,
   "id": "fa89beb1-ca44-47af-9163-b4850a9d0ac8",
   "metadata": {},
   "outputs": [
    {
     "name": "stdout",
     "output_type": "stream",
     "text": [
      "hello\n"
     ]
    }
   ],
   "source": [
    "class abc:\n",
    "    def aaa(self):\n",
    "        print(\"hello\")\n",
    "Shivani = abc()  \n",
    "Shivani.aaa()"
   ]
  },
  {
   "cell_type": "code",
   "execution_count": null,
   "id": "878548a4-87e5-4f61-9f61-75e8a78f1c8e",
   "metadata": {},
   "outputs": [],
   "source": []
  }
 ],
 "metadata": {
  "kernelspec": {
   "display_name": "Python 3 (ipykernel)",
   "language": "python",
   "name": "python3"
  },
  "language_info": {
   "codemirror_mode": {
    "name": "ipython",
    "version": 3
   },
   "file_extension": ".py",
   "mimetype": "text/x-python",
   "name": "python",
   "nbconvert_exporter": "python",
   "pygments_lexer": "ipython3",
   "version": "3.10.8"
  }
 },
 "nbformat": 4,
 "nbformat_minor": 5
}
