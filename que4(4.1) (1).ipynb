{
 "cells": [
  {
   "cell_type": "markdown",
   "id": "243e32cd-db6d-4cc0-b18e-8da730413420",
   "metadata": {},
   "source": [
    "self  : The self parameter is a reference to the current instance of the class, and is used to access variables that belongs to the class and the user can use different name in place of it."
   ]
  },
  {
   "cell_type": "code",
   "execution_count": 2,
   "id": "e544dca5-3634-4d57-b92f-548ef5bea28d",
   "metadata": {},
   "outputs": [
    {
     "data": {
      "text/plain": [
       "5"
      ]
     },
     "execution_count": 2,
     "metadata": {},
     "output_type": "execute_result"
    }
   ],
   "source": [
    "class abc:\n",
    "    def add(self,x,y):\n",
    "        return x+y\n",
    "sh = abc()\n",
    "sh.add(2,3)"
   ]
  },
  {
   "cell_type": "code",
   "execution_count": null,
   "id": "ec214ed8-0fdf-4b5e-a27a-755449141b21",
   "metadata": {},
   "outputs": [],
   "source": []
  }
 ],
 "metadata": {
  "kernelspec": {
   "display_name": "Python 3 (ipykernel)",
   "language": "python",
   "name": "python3"
  },
  "language_info": {
   "codemirror_mode": {
    "name": "ipython",
    "version": 3
   },
   "file_extension": ".py",
   "mimetype": "text/x-python",
   "name": "python",
   "nbconvert_exporter": "python",
   "pygments_lexer": "ipython3",
   "version": "3.10.8"
  }
 },
 "nbformat": 4,
 "nbformat_minor": 5
}
